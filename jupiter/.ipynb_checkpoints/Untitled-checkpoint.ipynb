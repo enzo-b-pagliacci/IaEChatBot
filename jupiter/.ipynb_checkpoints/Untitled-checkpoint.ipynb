{
 "cells": [
  {
   "cell_type": "markdown",
   "id": "9d491aae",
   "metadata": {},
   "source": [
    "## Exercício 1\n",
    "\n",
    "\n",
    "\n",
    "Faça funções em Python em células do Jupyter Notebook para calcular a média:\n",
    "\n",
    "\n",
    "\n",
    "a. Aritmética\n",
    "\n",
    "\n",
    "\n",
    "b. Geométrica\n",
    "\n",
    "\n",
    "\n",
    "c. Harmônica\n",
    "\n",
    "\n",
    "\n",
    "d.Verifique que: $x_{arit}>x_{geo}>x_{harm}$\n",
    "\n",
    "\n",
    "\n",
    "Use como entrada x = [39, 38, 27, 22, 20, 17, 10, 10, 10, 10, 7, 7, 7, 7, 6]"
   ]
  },
  {
   "cell_type": "code",
   "execution_count": 10,
   "id": "5684b58c",
   "metadata": {},
   "outputs": [],
   "source": [
    "def media_aritmetica (x):\n",
    "    N = len(x)\n",
    "    soma = 0\n",
    "    for i in x:\n",
    "        soma = soma + i\n",
    "    media = soma / N\n",
    "    return media"
   ]
  },
  {
   "cell_type": "code",
   "execution_count": 11,
   "id": "252525bc",
   "metadata": {},
   "outputs": [],
   "source": [
    "x = [39, 38, 27, 22, 20, 17, 10, 10, 10, 10, 7, 7, 7, 7, 6]"
   ]
  },
  {
   "cell_type": "code",
   "execution_count": 12,
   "id": "f1a3fc3f",
   "metadata": {},
   "outputs": [
    {
     "data": {
      "text/plain": [
       "15.8"
      ]
     },
     "execution_count": 12,
     "metadata": {},
     "output_type": "execute_result"
    }
   ],
   "source": [
    "media_aritmetica(x)"
   ]
  },
  {
   "cell_type": "code",
   "execution_count": 12,
   "id": "1cbc9e9c",
   "metadata": {},
   "outputs": [],
   "source": [
    "def media_geometrica (x):\n",
    "    N = len(x)\n",
    "    multi = 1\n",
    "    for i in x:\n",
    "        multi = multi * i\n",
    "    media = multi ** (1/N)\n",
    "    return media"
   ]
  },
  {
   "cell_type": "code",
   "execution_count": 13,
   "id": "b4b29864",
   "metadata": {},
   "outputs": [],
   "source": [
    "x = [39, 38, 27, 22, 20, 17, 10, 10, 10, 10, 7, 7, 7, 7, 6]"
   ]
  },
  {
   "cell_type": "code",
   "execution_count": 14,
   "id": "c19f3686",
   "metadata": {},
   "outputs": [
    {
     "data": {
      "text/plain": [
       "12.85218983525253"
      ]
     },
     "execution_count": 14,
     "metadata": {},
     "output_type": "execute_result"
    }
   ],
   "source": [
    "media_geometrica(x)"
   ]
  },
  {
   "cell_type": "code",
   "execution_count": 18,
   "id": "30860fb5",
   "metadata": {},
   "outputs": [],
   "source": [
    "def media_harmonica (x):\n",
    "    N = len(x)\n",
    "    soma = 0\n",
    "    for i in x:\n",
    "        soma = soma + (1/i)\n",
    "    media = N/soma\n",
    "    return (media)"
   ]
  },
  {
   "cell_type": "code",
   "execution_count": 19,
   "id": "b49a92b0",
   "metadata": {},
   "outputs": [],
   "source": [
    "x = [39, 38, 27, 22, 20, 17, 10, 10, 10, 10, 7, 7, 7, 7, 6]"
   ]
  },
  {
   "cell_type": "code",
   "execution_count": 20,
   "id": "3c08ccf1",
   "metadata": {},
   "outputs": [
    {
     "data": {
      "text/plain": [
       "10.858807403873502"
      ]
     },
     "execution_count": 20,
     "metadata": {},
     "output_type": "execute_result"
    }
   ],
   "source": [
    "media_harmonica(x)"
   ]
  },
  {
   "cell_type": "markdown",
   "id": "deb68082",
   "metadata": {},
   "source": [
    "## Exercício 2\n",
    "\n",
    "\n",
    "\n",
    "Faça uma função em Python em uma célula do Jupyter Notebook para calcular a média ponderada.\n",
    "\n",
    "\n",
    "\n",
    "Ela deve receber dois vetores (listas) como entrada.\n",
    "\n",
    "\n",
    "\n",
    "Use o mesmo x do exercício anterior com os pesos w = [113, 88, 58, 65, 71, 46, 36, 33, 37, 40, 24, 21, 20, 15, 20]"
   ]
  },
  {
   "cell_type": "code",
   "execution_count": 33,
   "id": "cbe6741d",
   "metadata": {},
   "outputs": [],
   "source": [
    "def media_ponderada (x,w):\n",
    "    if len (x) == len(w):\n",
    "        soma_wx = 0\n",
    "        soma_w = 0\n",
    "        for i in range(0, len(x)):\n",
    "            soma_wx = soma_wx + x[i]*w[i]\n",
    "            soma_w = soma_w + w[i]\n",
    "        media = soma_wx / soma_w\n",
    "    else:\n",
    "        print(\"ERRO: w e x não tem o mesmo tamanho\")\n",
    "        media=0\n",
    "    return media\n",
    "        "
   ]
  },
  {
   "cell_type": "code",
   "execution_count": 34,
   "id": "461501c4",
   "metadata": {},
   "outputs": [],
   "source": [
    "w = [113, 88, 58, 65, 71, 46, 36, 33, 37, 40, 24, 21, 20, 15, 20]\n",
    "x = [39, 38, 27, 22, 20, 17, 10, 10, 10, 10, 7, 7, 7, 7, 6]"
   ]
  },
  {
   "cell_type": "code",
   "execution_count": 38,
   "id": "737d90a3",
   "metadata": {},
   "outputs": [
    {
     "data": {
      "text/plain": [
       "21.963609898107716"
      ]
     },
     "execution_count": 38,
     "metadata": {},
     "output_type": "execute_result"
    }
   ],
   "source": [
    "media_ponderada(x,w)"
   ]
  },
  {
   "cell_type": "markdown",
   "id": "1cad664c",
   "metadata": {},
   "source": [
    "## Exercício 3\n",
    "\n",
    "\n",
    "\n",
    "Faça funções em Python em células do Jupyter Notebook para calcular a **moda** e a **mediana**:\n",
    "\n",
    "\n",
    "\n",
    "Para testar, use como entrada x = [39, 38, 27, 22, 20, 17, 10, 10, 10, 10, 7, 7, 7, 7, 6]"
   ]
  },
  {
   "cell_type": "code",
   "execution_count": null,
   "id": "49792aa1",
   "metadata": {},
   "outputs": [],
   "source": []
  },
  {
   "cell_type": "markdown",
   "id": "dd59bcad",
   "metadata": {},
   "source": [
    "## Exercício 4\n",
    "\n",
    "\n",
    "\n",
    "Faça funções em Python em células do Jupyter Notebook para calcular a:\n",
    "\n",
    "\n",
    "\n",
    "a. Variância amostral\n",
    "\n",
    "\n",
    "\n",
    "b. Variância populacional\n",
    "\n",
    "\n",
    "\n",
    "c. Desvio padrão amostral\n",
    "\n",
    "\n",
    "\n",
    "d. Desvio padrão populacional\n",
    "\n",
    "\n",
    "\n",
    "e. Incerteza da média\n",
    "\n",
    "\n",
    "\n",
    "Cada função deve receber apenas o vetor/lista de dados numéricos.\n",
    "\n",
    "\n",
    "\n",
    "Use como entrada x = [39, 38, 27, 22, 20, 17, 10, 10, 10, 10, 7, 7, 7, 7, 6]"
   ]
  },
  {
   "cell_type": "code",
   "execution_count": 13,
   "id": "8ffc0e3e",
   "metadata": {},
   "outputs": [],
   "source": [
    "def media_amostral(x):\n",
    "    media = media_aritmetica(x)\n",
    "    N = len(x)\n",
    "    soma = 0\n",
    "    for xi in x:\n",
    "        soma = soma+(xi-media)**2\n",
    "    variancia = soma/(N-1)\n",
    "    return(variancia)"
   ]
  },
  {
   "cell_type": "code",
   "execution_count": 14,
   "id": "e4e89988",
   "metadata": {},
   "outputs": [],
   "source": [
    "x = [39, 38, 27, 22, 20, 17, 10, 10, 10, 10, 7, 7, 7, 7, 6]"
   ]
  },
  {
   "cell_type": "code",
   "execution_count": 15,
   "id": "5f0b27da",
   "metadata": {},
   "outputs": [
    {
     "data": {
      "text/plain": [
       "125.31428571428577"
      ]
     },
     "execution_count": 15,
     "metadata": {},
     "output_type": "execute_result"
    }
   ],
   "source": [
    "media_amostral(x)"
   ]
  },
  {
   "cell_type": "code",
   "execution_count": null,
   "id": "1c292217",
   "metadata": {},
   "outputs": [],
   "source": []
  }
 ],
 "metadata": {
  "kernelspec": {
   "display_name": "Python 3 (ipykernel)",
   "language": "python",
   "name": "python3"
  },
  "language_info": {
   "codemirror_mode": {
    "name": "ipython",
    "version": 3
   },
   "file_extension": ".py",
   "mimetype": "text/x-python",
   "name": "python",
   "nbconvert_exporter": "python",
   "pygments_lexer": "ipython3",
   "version": "3.9.2"
  }
 },
 "nbformat": 4,
 "nbformat_minor": 5
}
