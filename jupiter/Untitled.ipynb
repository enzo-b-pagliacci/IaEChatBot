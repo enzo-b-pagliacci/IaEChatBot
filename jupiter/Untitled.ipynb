{
 "cells": [
  {
   "cell_type": "markdown",
   "id": "9d491aae",
   "metadata": {},
   "source": [
    "## Exercício 1\n",
    "\n",
    "\n",
    "\n",
    "Faça funções em Python em células do Jupyter Notebook para calcular a média:\n",
    "\n",
    "\n",
    "\n",
    "a. Aritmética\n",
    "\n",
    "\n",
    "\n",
    "b. Geométrica\n",
    "\n",
    "\n",
    "\n",
    "c. Harmônica\n",
    "\n",
    "\n",
    "\n",
    "d.Verifique que: $x_{arit}>x_{geo}>x_{harm}$\n",
    "\n",
    "\n",
    "\n",
    "Use como entrada x = [39, 38, 27, 22, 20, 17, 10, 10, 10, 10, 7, 7, 7, 7, 6]"
   ]
  },
  {
   "cell_type": "code",
   "execution_count": 10,
   "id": "5684b58c",
   "metadata": {},
   "outputs": [],
   "source": [
    "def media_aritmetica (x):\n",
    "    N = len(x)\n",
    "    soma = 0\n",
    "    for i in x:\n",
    "        soma = soma + i\n",
    "    media = soma / N\n",
    "    return media"
   ]
  },
  {
   "cell_type": "code",
   "execution_count": 11,
   "id": "252525bc",
   "metadata": {},
   "outputs": [],
   "source": [
    "x = [39, 38, 27, 22, 20, 17, 10, 10, 10, 10, 7, 7, 7, 7, 6]"
   ]
  },
  {
   "cell_type": "code",
   "execution_count": 12,
   "id": "f1a3fc3f",
   "metadata": {},
   "outputs": [
    {
     "data": {
      "text/plain": [
       "15.8"
      ]
     },
     "execution_count": 12,
     "metadata": {},
     "output_type": "execute_result"
    }
   ],
   "source": [
    "media_aritmetica(x)"
   ]
  },
  {
   "cell_type": "code",
   "execution_count": 12,
   "id": "1cbc9e9c",
   "metadata": {},
   "outputs": [],
   "source": [
    "def media_geometrica (x):\n",
    "    N = len(x)\n",
    "    multi = 1\n",
    "    for i in x:\n",
    "        multi = multi * i\n",
    "    media = multi ** (1/N)\n",
    "    return media"
   ]
  },
  {
   "cell_type": "code",
   "execution_count": 13,
   "id": "b4b29864",
   "metadata": {},
   "outputs": [],
   "source": [
    "x = [39, 38, 27, 22, 20, 17, 10, 10, 10, 10, 7, 7, 7, 7, 6]"
   ]
  },
  {
   "cell_type": "code",
   "execution_count": 14,
   "id": "c19f3686",
   "metadata": {},
   "outputs": [
    {
     "data": {
      "text/plain": [
       "12.85218983525253"
      ]
     },
     "execution_count": 14,
     "metadata": {},
     "output_type": "execute_result"
    }
   ],
   "source": [
    "media_geometrica(x)"
   ]
  },
  {
   "cell_type": "code",
   "execution_count": 18,
   "id": "30860fb5",
   "metadata": {},
   "outputs": [],
   "source": [
    "def media_harmonica (x):\n",
    "    N = len(x)\n",
    "    soma = 0\n",
    "    for i in x:\n",
    "        soma = soma + (1/i)\n",
    "    media = N/soma\n",
    "    return (media)"
   ]
  },
  {
   "cell_type": "code",
   "execution_count": 19,
   "id": "b49a92b0",
   "metadata": {},
   "outputs": [],
   "source": [
    "x = [39, 38, 27, 22, 20, 17, 10, 10, 10, 10, 7, 7, 7, 7, 6]"
   ]
  },
  {
   "cell_type": "code",
   "execution_count": 20,
   "id": "3c08ccf1",
   "metadata": {},
   "outputs": [
    {
     "data": {
      "text/plain": [
       "10.858807403873502"
      ]
     },
     "execution_count": 20,
     "metadata": {},
     "output_type": "execute_result"
    }
   ],
   "source": [
    "media_harmonica(x)"
   ]
  },
  {
   "cell_type": "markdown",
   "id": "deb68082",
   "metadata": {},
   "source": [
    "## Exercício 2\n",
    "\n",
    "\n",
    "\n",
    "Faça uma função em Python em uma célula do Jupyter Notebook para calcular a média ponderada.\n",
    "\n",
    "\n",
    "\n",
    "Ela deve receber dois vetores (listas) como entrada.\n",
    "\n",
    "\n",
    "\n",
    "Use o mesmo x do exercício anterior com os pesos w = [113, 88, 58, 65, 71, 46, 36, 33, 37, 40, 24, 21, 20, 15, 20]"
   ]
  },
  {
   "cell_type": "code",
   "execution_count": 33,
   "id": "cbe6741d",
   "metadata": {},
   "outputs": [],
   "source": [
    "def media_ponderada (x,w):\n",
    "    if len (x) == len(w):\n",
    "        soma_wx = 0\n",
    "        soma_w = 0\n",
    "        for i in range(0, len(x)):\n",
    "            soma_wx = soma_wx + x[i]*w[i]\n",
    "            soma_w = soma_w + w[i]\n",
    "        media = soma_wx / soma_w\n",
    "    else:\n",
    "        print(\"ERRO: w e x não tem o mesmo tamanho\")\n",
    "        media=0\n",
    "    return media\n",
    "        "
   ]
  },
  {
   "cell_type": "code",
   "execution_count": 34,
   "id": "461501c4",
   "metadata": {},
   "outputs": [],
   "source": [
    "w = [113, 88, 58, 65, 71, 46, 36, 33, 37, 40, 24, 21, 20, 15, 20]\n",
    "x = [39, 38, 27, 22, 20, 17, 10, 10, 10, 10, 7, 7, 7, 7, 6]"
   ]
  },
  {
   "cell_type": "code",
   "execution_count": 38,
   "id": "737d90a3",
   "metadata": {},
   "outputs": [
    {
     "data": {
      "text/plain": [
       "21.963609898107716"
      ]
     },
     "execution_count": 38,
     "metadata": {},
     "output_type": "execute_result"
    }
   ],
   "source": [
    "media_ponderada(x,w)"
   ]
  },
  {
   "cell_type": "markdown",
   "id": "1cad664c",
   "metadata": {},
   "source": [
    "## Exercício 3\n",
    "\n",
    "\n",
    "\n",
    "Faça funções em Python em células do Jupyter Notebook para calcular a **moda** e a **mediana**:\n",
    "\n",
    "\n",
    "\n",
    "Para testar, use como entrada x = [39, 38, 27, 22, 20, 17, 10, 10, 10, 10, 7, 7, 7, 7, 6]"
   ]
  },
  {
   "cell_type": "code",
   "execution_count": null,
   "id": "49792aa1",
   "metadata": {},
   "outputs": [],
   "source": [
    "def mediana(x):\n",
    "    N = len(x)\n",
    "    x.sort()\n",
    "    if N%2 == 0: #Temos um numero par de elementos no vetor x\n",
    "        a = int(N/2-1)\n",
    "        b = int(N/2)\n",
    "        mediana = (x[a]+x[b])/2\n",
    "    else:\n",
    "        a = int(N/2)\n",
    "        mediana = x[a]\n",
    "    return (float(mediana)) #Vamos retornar sempre um float para padronizar"
   ]
  },
  {
   "cell_type": "code",
   "execution_count": null,
   "id": "669d18cd",
   "metadata": {},
   "outputs": [],
   "source": [
    "x = [39, 38, 27, 22, 20, 17, 10, 10, 10, 10, 7, 7, 7, 7, 6]"
   ]
  },
  {
   "cell_type": "code",
   "execution_count": null,
   "id": "1342614a",
   "metadata": {},
   "outputs": [],
   "source": [
    "mediana(x)"
   ]
  },
  {
   "cell_type": "code",
   "execution_count": 7,
   "id": "22a1a249",
   "metadata": {},
   "outputs": [],
   "source": [
    "def moda(x):\n",
    "    temp = 2 # Uma variavel temporaria para armazenar a maior frequencia que um valor aparece\n",
    "    moda = [] #Vetor para armazenar diferentes valores para moda\n",
    "    for xi in x: # Vamos percorres todo o vetor x\n",
    "        frequencia = x.count(xi) # Conta quantas vezes um deteminado valor xi aparece no vetor\n",
    "        if frequencia >= temp:\n",
    "            if frequencia > temp:\n",
    "                moda = []\n",
    "            temp = frequencia\n",
    "            if xi not in moda: # Adiciona o elemento no vetor moda se o elemento já não\n",
    "                moda.append(xi)\n",
    "            return(moda)"
   ]
  },
  {
   "cell_type": "code",
   "execution_count": 8,
   "id": "dc9ee4fc",
   "metadata": {},
   "outputs": [],
   "source": [
    "x = [39, 38, 27, 22, 20, 17, 10, 10, 10, 10, 7, 7, 7, 7, 6]"
   ]
  },
  {
   "cell_type": "code",
   "execution_count": 9,
   "id": "b6cbeb4d",
   "metadata": {},
   "outputs": [
    {
     "data": {
      "text/plain": [
       "[10]"
      ]
     },
     "execution_count": 9,
     "metadata": {},
     "output_type": "execute_result"
    }
   ],
   "source": [
    "moda(x)"
   ]
  },
  {
   "cell_type": "markdown",
   "id": "dd59bcad",
   "metadata": {},
   "source": [
    "## Exercício 4\n",
    "\n",
    "\n",
    "\n",
    "Faça funções em Python em células do Jupyter Notebook para calcular a:\n",
    "\n",
    "\n",
    "\n",
    "a. Variância amostral\n",
    "\n",
    "\n",
    "\n",
    "b. Variância populacional\n",
    "\n",
    "\n",
    "\n",
    "c. Desvio padrão amostral\n",
    "\n",
    "\n",
    "\n",
    "d. Desvio padrão populacional\n",
    "\n",
    "\n",
    "\n",
    "e. Incerteza da média\n",
    "\n",
    "\n",
    "\n",
    "Cada função deve receber apenas o vetor/lista de dados numéricos.\n",
    "\n",
    "\n",
    "\n",
    "Use como entrada x = [39, 38, 27, 22, 20, 17, 10, 10, 10, 10, 7, 7, 7, 7, 6]"
   ]
  },
  {
   "cell_type": "code",
   "execution_count": null,
   "id": "8ffc0e3e",
   "metadata": {},
   "outputs": [],
   "source": [
    "def media_amostral(x):\n",
    "    media = media_aritmetica(x)\n",
    "    N = len(x)\n",
    "    soma = 0\n",
    "    for xi in x:\n",
    "        soma = soma+(xi-media)**2\n",
    "    variancia = soma/(N-1)\n",
    "    return(variancia)"
   ]
  },
  {
   "cell_type": "code",
   "execution_count": null,
   "id": "e4e89988",
   "metadata": {},
   "outputs": [],
   "source": [
    "x = [39, 38, 27, 22, 20, 17, 10, 10, 10, 10, 7, 7, 7, 7, 6]"
   ]
  },
  {
   "cell_type": "code",
   "execution_count": null,
   "id": "5f0b27da",
   "metadata": {},
   "outputs": [],
   "source": [
    "media_amostral(x)"
   ]
  },
  {
   "cell_type": "code",
   "execution_count": null,
   "id": "1c292217",
   "metadata": {},
   "outputs": [],
   "source": []
  },
  {
   "cell_type": "markdown",
   "id": "43be23fd",
   "metadata": {},
   "source": [
    "## Exercício 5\n",
    "\n",
    "\n",
    "\n",
    "Refaça os exercícios anteriores usando as funções prontas de estatística do\n",
    "Numpy.\n",
    "\n",
    "\n",
    "\n",
    "Você pode ver como usá las aqui https://numpy.org/doc/stable/reference/routines.statistics.html\n",
    "\n"
   ]
  },
  {
   "cell_type": "code",
   "execution_count": 22,
   "id": "1bd6b1a3",
   "metadata": {},
   "outputs": [],
   "source": [
    "import numpy as np"
   ]
  },
  {
   "cell_type": "code",
   "execution_count": 14,
   "id": "295623e5",
   "metadata": {},
   "outputs": [
    {
     "ename": "AttributeError",
     "evalue": "module 'numpy' has no attribute 'nomde_da_funcao'",
     "output_type": "error",
     "traceback": [
      "\u001b[1;31m---------------------------------------------------------------------------\u001b[0m",
      "\u001b[1;31mAttributeError\u001b[0m                            Traceback (most recent call last)",
      "\u001b[1;32m~\\AppData\\Local\\Temp/ipykernel_12260/1160373097.py\u001b[0m in \u001b[0;36m<module>\u001b[1;34m\u001b[0m\n\u001b[1;32m----> 1\u001b[1;33m \u001b[0mnumpy\u001b[0m\u001b[1;33m.\u001b[0m\u001b[0mnomde_da_funcao\u001b[0m \u001b[1;33m(\u001b[0m\u001b[1;33m)\u001b[0m\u001b[1;33m\u001b[0m\u001b[1;33m\u001b[0m\u001b[0m\n\u001b[0m",
      "\u001b[1;32m~\\AppData\\Local\\Programs\\Python\\Python39\\lib\\site-packages\\numpy\\__init__.py\u001b[0m in \u001b[0;36m__getattr__\u001b[1;34m(attr)\u001b[0m\n\u001b[0;32m    311\u001b[0m                 \u001b[1;32mreturn\u001b[0m \u001b[0mTester\u001b[0m\u001b[1;33m\u001b[0m\u001b[1;33m\u001b[0m\u001b[0m\n\u001b[0;32m    312\u001b[0m \u001b[1;33m\u001b[0m\u001b[0m\n\u001b[1;32m--> 313\u001b[1;33m             raise AttributeError(\"module {!r} has no attribute \"\n\u001b[0m\u001b[0;32m    314\u001b[0m                                  \"{!r}\".format(__name__, attr))\n\u001b[0;32m    315\u001b[0m \u001b[1;33m\u001b[0m\u001b[0m\n",
      "\u001b[1;31mAttributeError\u001b[0m: module 'numpy' has no attribute 'nomde_da_funcao'"
     ]
    }
   ],
   "source": [
    "numpy.nomde_da_funcao ()"
   ]
  },
  {
   "cell_type": "code",
   "execution_count": 23,
   "id": "5af88507",
   "metadata": {},
   "outputs": [],
   "source": [
    "x = [39, 38, 27, 22, 20, 17, 10, 10, 10, 10, 7, 7, 7, 7, 6]"
   ]
  },
  {
   "cell_type": "code",
   "execution_count": 24,
   "id": "85266f08",
   "metadata": {},
   "outputs": [
    {
     "data": {
      "text/plain": [
       "10.0"
      ]
     },
     "execution_count": 24,
     "metadata": {},
     "output_type": "execute_result"
    }
   ],
   "source": [
    "#Media\n",
    "np.median(x)"
   ]
  },
  {
   "cell_type": "code",
   "execution_count": 26,
   "id": "1f220413",
   "metadata": {},
   "outputs": [
    {
     "data": {
      "text/plain": [
       "15.8"
      ]
     },
     "execution_count": 26,
     "metadata": {},
     "output_type": "execute_result"
    }
   ],
   "source": [
    "#Media\n",
    "np.mean(x)"
   ]
  },
  {
   "cell_type": "code",
   "execution_count": 35,
   "id": "5e689df8",
   "metadata": {},
   "outputs": [
    {
     "data": {
      "text/plain": [
       "21.963609898107716"
      ]
     },
     "execution_count": 35,
     "metadata": {},
     "output_type": "execute_result"
    }
   ],
   "source": [
    "w = [113, 88, 58, 65, 71, 46, 36, 33, 37, 40, 24, 21, 20, 15, 20]\n",
    "#Media ponderada\n",
    "np.average(x,weights=w)"
   ]
  },
  {
   "cell_type": "code",
   "execution_count": 28,
   "id": "e239846b",
   "metadata": {},
   "outputs": [
    {
     "data": {
      "text/plain": [
       "10.81480466767662"
      ]
     },
     "execution_count": 28,
     "metadata": {},
     "output_type": "execute_result"
    }
   ],
   "source": [
    "#Desvio padrao populacional\n",
    "np.std(x)"
   ]
  },
  {
   "cell_type": "code",
   "execution_count": 29,
   "id": "563f2de8",
   "metadata": {},
   "outputs": [
    {
     "data": {
      "text/plain": [
       "116.96000000000001"
      ]
     },
     "execution_count": 29,
     "metadata": {},
     "output_type": "execute_result"
    }
   ],
   "source": [
    "#variancia populacional\n",
    "np.var(x)"
   ]
  },
  {
   "cell_type": "code",
   "execution_count": 36,
   "id": "b88d07cb",
   "metadata": {},
   "outputs": [],
   "source": [
    "#media geometrica"
   ]
  },
  {
   "cell_type": "code",
   "execution_count": 37,
   "id": "596805e5",
   "metadata": {},
   "outputs": [],
   "source": [
    "#media harmonica"
   ]
  },
  {
   "cell_type": "code",
   "execution_count": 38,
   "id": "86b562bf",
   "metadata": {},
   "outputs": [
    {
     "data": {
      "text/plain": [
       "125.31428571428572"
      ]
     },
     "execution_count": 38,
     "metadata": {},
     "output_type": "execute_result"
    }
   ],
   "source": [
    "#variancia amostral\n",
    "np.var(x, ddof=1)"
   ]
  },
  {
   "cell_type": "code",
   "execution_count": 39,
   "id": "08e81d89",
   "metadata": {},
   "outputs": [
    {
     "data": {
      "text/plain": [
       "11.194386348267855"
      ]
     },
     "execution_count": 39,
     "metadata": {},
     "output_type": "execute_result"
    }
   ],
   "source": [
    "#desvio padrao amostral\n",
    "np.std(x, ddof=1)"
   ]
  },
  {
   "cell_type": "code",
   "execution_count": 40,
   "id": "e7efbdbe",
   "metadata": {},
   "outputs": [],
   "source": [
    "#media geometrica"
   ]
  },
  {
   "cell_type": "code",
   "execution_count": 41,
   "id": "582b7eb1",
   "metadata": {},
   "outputs": [],
   "source": [
    "#media harmonica"
   ]
  },
  {
   "cell_type": "code",
   "execution_count": 42,
   "id": "0ffa023c",
   "metadata": {},
   "outputs": [],
   "source": [
    "#incerteza na media"
   ]
  },
  {
   "cell_type": "markdown",
   "id": "5bba487b",
   "metadata": {},
   "source": [
    "## Exercício 6\n",
    "\n",
    "\n",
    "\n",
    "Alguma função você não encontrou pronta no Numpy?\n",
    "\n",
    "\n",
    "\n",
    "Procure na internet outra biblioteca que já tenha a função implementada Instale (se for necessário) e teste para as mesmas entradas."
   ]
  },
  {
   "cell_type": "code",
   "execution_count": 43,
   "id": "a293a120",
   "metadata": {},
   "outputs": [],
   "source": [
    "import statistics"
   ]
  },
  {
   "cell_type": "code",
   "execution_count": 44,
   "id": "7339f1b6",
   "metadata": {},
   "outputs": [
    {
     "data": {
      "text/plain": [
       "12.852189835252526"
      ]
     },
     "execution_count": 44,
     "metadata": {},
     "output_type": "execute_result"
    }
   ],
   "source": [
    "#Media geometrica\n",
    "statistics.geometric_mean(x)"
   ]
  },
  {
   "cell_type": "code",
   "execution_count": 45,
   "id": "c7bc265c",
   "metadata": {},
   "outputs": [
    {
     "data": {
      "text/plain": [
       "10.858807403873502"
      ]
     },
     "execution_count": 45,
     "metadata": {},
     "output_type": "execute_result"
    }
   ],
   "source": [
    "#media harmonica\n",
    "statistics.harmonic_mean(x)"
   ]
  },
  {
   "cell_type": "code",
   "execution_count": 46,
   "id": "707e7bbb",
   "metadata": {},
   "outputs": [
    {
     "data": {
      "text/plain": [
       "10"
      ]
     },
     "execution_count": 46,
     "metadata": {},
     "output_type": "execute_result"
    }
   ],
   "source": [
    "statistics.mode(x)"
   ]
  },
  {
   "cell_type": "code",
   "execution_count": 47,
   "id": "2acca1fb",
   "metadata": {},
   "outputs": [
    {
     "data": {
      "text/plain": [
       "[10, 7]"
      ]
     },
     "execution_count": 47,
     "metadata": {},
     "output_type": "execute_result"
    }
   ],
   "source": [
    "#Moda\n",
    "statistics.multimode(x)"
   ]
  },
  {
   "cell_type": "code",
   "execution_count": 48,
   "id": "9ac3b72f",
   "metadata": {},
   "outputs": [
    {
     "data": {
      "text/plain": [
       "125.31428571428572"
      ]
     },
     "execution_count": 48,
     "metadata": {},
     "output_type": "execute_result"
    }
   ],
   "source": [
    "#variancia amostral\n",
    "statistics.variance(x)"
   ]
  },
  {
   "cell_type": "code",
   "execution_count": 49,
   "id": "8509878f",
   "metadata": {},
   "outputs": [],
   "source": [
    "#incerteza da media\n"
   ]
  },
  {
   "cell_type": "code",
   "execution_count": 55,
   "id": "08b4b6fc",
   "metadata": {},
   "outputs": [],
   "source": [
    "from scipy import stats"
   ]
  },
  {
   "cell_type": "code",
   "execution_count": 57,
   "id": "4ee6e6a8",
   "metadata": {},
   "outputs": [
    {
     "data": {
      "text/plain": [
       "2.8903781265235375"
      ]
     },
     "execution_count": 57,
     "metadata": {},
     "output_type": "execute_result"
    }
   ],
   "source": [
    "#incerteza da media\n",
    "stats.sem(x)                                                                               "
   ]
  },
  {
   "cell_type": "markdown",
   "id": "a80e836c",
   "metadata": {},
   "source": [
    "## Exercício 7\n",
    "Faça uma comparação de desempenho das funções testadas usando um\n",
    "vetor de 100 mil valores aleatórios entre 0 e 99.\n",
    "\n",
    "\n",
    "\n",
    "Use o timeit"
   ]
  },
  {
   "cell_type": "code",
   "execution_count": 63,
   "id": "82fbf263",
   "metadata": {},
   "outputs": [],
   "source": [
    "from numpy import random"
   ]
  },
  {
   "cell_type": "code",
   "execution_count": 65,
   "id": "313d8241",
   "metadata": {},
   "outputs": [
    {
     "name": "stdout",
     "output_type": "stream",
     "text": [
      "62\n"
     ]
    }
   ],
   "source": [
    "x = random.randint(100)\n",
    "print(x)"
   ]
  },
  {
   "cell_type": "code",
   "execution_count": 67,
   "id": "6867107c",
   "metadata": {},
   "outputs": [
    {
     "data": {
      "text/plain": [
       "1000"
      ]
     },
     "execution_count": 67,
     "metadata": {},
     "output_type": "execute_result"
    }
   ],
   "source": [
    "r = np.random.rand(1000)\n",
    "len(r)"
   ]
  },
  {
   "cell_type": "code",
   "execution_count": 68,
   "id": "462fbcb9",
   "metadata": {},
   "outputs": [],
   "source": [
    "vetor_aleatorio = []\n",
    "for ri in r:\n",
    "    vetor_aleatorio.append(int(ri*100))"
   ]
  },
  {
   "cell_type": "code",
   "execution_count": 69,
   "id": "3c493a31",
   "metadata": {},
   "outputs": [
    {
     "data": {
      "text/plain": [
       "[40,\n",
       " 43,\n",
       " 18,\n",
       " 76,\n",
       " 74,\n",
       " 32,\n",
       " 23,\n",
       " 71,\n",
       " 27,\n",
       " 48,\n",
       " 89,\n",
       " 44,\n",
       " 9,\n",
       " 41,\n",
       " 79,\n",
       " 83,\n",
       " 56,\n",
       " 26,\n",
       " 33,\n",
       " 8,\n",
       " 56,\n",
       " 52,\n",
       " 13,\n",
       " 48,\n",
       " 72,\n",
       " 69,\n",
       " 94,\n",
       " 81,\n",
       " 71,\n",
       " 71,\n",
       " 60,\n",
       " 0,\n",
       " 22,\n",
       " 85,\n",
       " 9,\n",
       " 45,\n",
       " 98,\n",
       " 94,\n",
       " 24,\n",
       " 42,\n",
       " 63,\n",
       " 26,\n",
       " 59,\n",
       " 39,\n",
       " 69,\n",
       " 88,\n",
       " 72,\n",
       " 34,\n",
       " 4,\n",
       " 6,\n",
       " 27,\n",
       " 93,\n",
       " 82,\n",
       " 9,\n",
       " 26,\n",
       " 87,\n",
       " 38,\n",
       " 98,\n",
       " 85,\n",
       " 60,\n",
       " 69,\n",
       " 63,\n",
       " 34,\n",
       " 4,\n",
       " 23,\n",
       " 21,\n",
       " 12,\n",
       " 60,\n",
       " 86,\n",
       " 21,\n",
       " 83,\n",
       " 38,\n",
       " 89,\n",
       " 16,\n",
       " 44,\n",
       " 45,\n",
       " 55,\n",
       " 60,\n",
       " 48,\n",
       " 20,\n",
       " 51,\n",
       " 97,\n",
       " 21,\n",
       " 35,\n",
       " 15,\n",
       " 35,\n",
       " 81,\n",
       " 31,\n",
       " 32,\n",
       " 88,\n",
       " 87,\n",
       " 53,\n",
       " 95,\n",
       " 94,\n",
       " 99,\n",
       " 22,\n",
       " 13,\n",
       " 94,\n",
       " 20,\n",
       " 29,\n",
       " 87,\n",
       " 89,\n",
       " 76,\n",
       " 9,\n",
       " 81,\n",
       " 98,\n",
       " 21,\n",
       " 41,\n",
       " 5,\n",
       " 57,\n",
       " 74,\n",
       " 8,\n",
       " 56,\n",
       " 16,\n",
       " 9,\n",
       " 13,\n",
       " 61,\n",
       " 31,\n",
       " 93,\n",
       " 37,\n",
       " 8,\n",
       " 35,\n",
       " 7,\n",
       " 61,\n",
       " 32,\n",
       " 49,\n",
       " 63,\n",
       " 29,\n",
       " 78,\n",
       " 51,\n",
       " 95,\n",
       " 63,\n",
       " 83,\n",
       " 33,\n",
       " 88,\n",
       " 7,\n",
       " 59,\n",
       " 92,\n",
       " 43,\n",
       " 28,\n",
       " 96,\n",
       " 30,\n",
       " 79,\n",
       " 81,\n",
       " 57,\n",
       " 60,\n",
       " 22,\n",
       " 10,\n",
       " 10,\n",
       " 31,\n",
       " 81,\n",
       " 48,\n",
       " 63,\n",
       " 82,\n",
       " 19,\n",
       " 17,\n",
       " 5,\n",
       " 64,\n",
       " 38,\n",
       " 35,\n",
       " 45,\n",
       " 94,\n",
       " 17,\n",
       " 67,\n",
       " 11,\n",
       " 67,\n",
       " 96,\n",
       " 66,\n",
       " 63,\n",
       " 9,\n",
       " 20,\n",
       " 2,\n",
       " 88,\n",
       " 16,\n",
       " 29,\n",
       " 86,\n",
       " 48,\n",
       " 56,\n",
       " 93,\n",
       " 38,\n",
       " 34,\n",
       " 91,\n",
       " 98,\n",
       " 14,\n",
       " 45,\n",
       " 73,\n",
       " 14,\n",
       " 76,\n",
       " 67,\n",
       " 31,\n",
       " 97,\n",
       " 89,\n",
       " 12,\n",
       " 90,\n",
       " 57,\n",
       " 62,\n",
       " 60,\n",
       " 44,\n",
       " 27,\n",
       " 24,\n",
       " 94,\n",
       " 53,\n",
       " 96,\n",
       " 1,\n",
       " 60,\n",
       " 19,\n",
       " 5,\n",
       " 80,\n",
       " 29,\n",
       " 24,\n",
       " 89,\n",
       " 71,\n",
       " 12,\n",
       " 14,\n",
       " 39,\n",
       " 54,\n",
       " 64,\n",
       " 95,\n",
       " 79,\n",
       " 48,\n",
       " 35,\n",
       " 44,\n",
       " 14,\n",
       " 54,\n",
       " 84,\n",
       " 47,\n",
       " 15,\n",
       " 79,\n",
       " 23,\n",
       " 97,\n",
       " 52,\n",
       " 57,\n",
       " 59,\n",
       " 59,\n",
       " 67,\n",
       " 73,\n",
       " 8,\n",
       " 97,\n",
       " 41,\n",
       " 63,\n",
       " 76,\n",
       " 95,\n",
       " 4,\n",
       " 19,\n",
       " 85,\n",
       " 10,\n",
       " 10,\n",
       " 47,\n",
       " 69,\n",
       " 66,\n",
       " 63,\n",
       " 2,\n",
       " 18,\n",
       " 48,\n",
       " 9,\n",
       " 63,\n",
       " 83,\n",
       " 38,\n",
       " 44,\n",
       " 20,\n",
       " 29,\n",
       " 6,\n",
       " 51,\n",
       " 86,\n",
       " 34,\n",
       " 11,\n",
       " 92,\n",
       " 34,\n",
       " 1,\n",
       " 16,\n",
       " 18,\n",
       " 71,\n",
       " 7,\n",
       " 5,\n",
       " 43,\n",
       " 54,\n",
       " 19,\n",
       " 86,\n",
       " 98,\n",
       " 83,\n",
       " 36,\n",
       " 48,\n",
       " 76,\n",
       " 34,\n",
       " 42,\n",
       " 52,\n",
       " 11,\n",
       " 28,\n",
       " 46,\n",
       " 26,\n",
       " 67,\n",
       " 72,\n",
       " 68,\n",
       " 48,\n",
       " 65,\n",
       " 92,\n",
       " 65,\n",
       " 62,\n",
       " 25,\n",
       " 43,\n",
       " 99,\n",
       " 86,\n",
       " 62,\n",
       " 49,\n",
       " 64,\n",
       " 60,\n",
       " 16,\n",
       " 20,\n",
       " 30,\n",
       " 6,\n",
       " 27,\n",
       " 88,\n",
       " 59,\n",
       " 38,\n",
       " 94,\n",
       " 11,\n",
       " 13,\n",
       " 7,\n",
       " 36,\n",
       " 27,\n",
       " 74,\n",
       " 32,\n",
       " 66,\n",
       " 2,\n",
       " 8,\n",
       " 54,\n",
       " 6,\n",
       " 38,\n",
       " 18,\n",
       " 25,\n",
       " 8,\n",
       " 23,\n",
       " 99,\n",
       " 22,\n",
       " 70,\n",
       " 75,\n",
       " 51,\n",
       " 53,\n",
       " 44,\n",
       " 74,\n",
       " 28,\n",
       " 79,\n",
       " 5,\n",
       " 5,\n",
       " 44,\n",
       " 30,\n",
       " 56,\n",
       " 64,\n",
       " 64,\n",
       " 15,\n",
       " 27,\n",
       " 66,\n",
       " 12,\n",
       " 16,\n",
       " 60,\n",
       " 1,\n",
       " 31,\n",
       " 91,\n",
       " 18,\n",
       " 44,\n",
       " 78,\n",
       " 12,\n",
       " 66,\n",
       " 42,\n",
       " 18,\n",
       " 85,\n",
       " 15,\n",
       " 32,\n",
       " 39,\n",
       " 96,\n",
       " 32,\n",
       " 46,\n",
       " 87,\n",
       " 25,\n",
       " 73,\n",
       " 34,\n",
       " 13,\n",
       " 66,\n",
       " 80,\n",
       " 33,\n",
       " 24,\n",
       " 66,\n",
       " 39,\n",
       " 92,\n",
       " 10,\n",
       " 35,\n",
       " 14,\n",
       " 22,\n",
       " 31,\n",
       " 67,\n",
       " 36,\n",
       " 99,\n",
       " 47,\n",
       " 10,\n",
       " 89,\n",
       " 53,\n",
       " 21,\n",
       " 42,\n",
       " 11,\n",
       " 3,\n",
       " 81,\n",
       " 81,\n",
       " 73,\n",
       " 99,\n",
       " 14,\n",
       " 8,\n",
       " 42,\n",
       " 84,\n",
       " 75,\n",
       " 21,\n",
       " 58,\n",
       " 53,\n",
       " 60,\n",
       " 68,\n",
       " 24,\n",
       " 62,\n",
       " 36,\n",
       " 4,\n",
       " 65,\n",
       " 72,\n",
       " 93,\n",
       " 60,\n",
       " 88,\n",
       " 45,\n",
       " 35,\n",
       " 35,\n",
       " 73,\n",
       " 84,\n",
       " 98,\n",
       " 13,\n",
       " 62,\n",
       " 12,\n",
       " 30,\n",
       " 57,\n",
       " 5,\n",
       " 90,\n",
       " 8,\n",
       " 74,\n",
       " 6,\n",
       " 1,\n",
       " 16,\n",
       " 1,\n",
       " 57,\n",
       " 50,\n",
       " 64,\n",
       " 29,\n",
       " 52,\n",
       " 83,\n",
       " 42,\n",
       " 62,\n",
       " 26,\n",
       " 8,\n",
       " 10,\n",
       " 48,\n",
       " 16,\n",
       " 48,\n",
       " 77,\n",
       " 52,\n",
       " 6,\n",
       " 88,\n",
       " 33,\n",
       " 12,\n",
       " 32,\n",
       " 3,\n",
       " 80,\n",
       " 57,\n",
       " 63,\n",
       " 53,\n",
       " 64,\n",
       " 96,\n",
       " 55,\n",
       " 59,\n",
       " 23,\n",
       " 8,\n",
       " 67,\n",
       " 42,\n",
       " 51,\n",
       " 41,\n",
       " 9,\n",
       " 17,\n",
       " 1,\n",
       " 8,\n",
       " 46,\n",
       " 92,\n",
       " 55,\n",
       " 96,\n",
       " 7,\n",
       " 17,\n",
       " 27,\n",
       " 15,\n",
       " 17,\n",
       " 20,\n",
       " 9,\n",
       " 80,\n",
       " 82,\n",
       " 80,\n",
       " 63,\n",
       " 28,\n",
       " 77,\n",
       " 69,\n",
       " 69,\n",
       " 96,\n",
       " 45,\n",
       " 42,\n",
       " 41,\n",
       " 36,\n",
       " 16,\n",
       " 94,\n",
       " 79,\n",
       " 78,\n",
       " 22,\n",
       " 93,\n",
       " 61,\n",
       " 18,\n",
       " 15,\n",
       " 16,\n",
       " 52,\n",
       " 31,\n",
       " 22,\n",
       " 20,\n",
       " 60,\n",
       " 20,\n",
       " 46,\n",
       " 34,\n",
       " 26,\n",
       " 39,\n",
       " 89,\n",
       " 45,\n",
       " 0,\n",
       " 53,\n",
       " 76,\n",
       " 48,\n",
       " 21,\n",
       " 88,\n",
       " 90,\n",
       " 38,\n",
       " 55,\n",
       " 72,\n",
       " 51,\n",
       " 7,\n",
       " 28,\n",
       " 39,\n",
       " 39,\n",
       " 8,\n",
       " 87,\n",
       " 1,\n",
       " 81,\n",
       " 84,\n",
       " 45,\n",
       " 49,\n",
       " 36,\n",
       " 84,\n",
       " 41,\n",
       " 57,\n",
       " 82,\n",
       " 97,\n",
       " 35,\n",
       " 88,\n",
       " 0,\n",
       " 97,\n",
       " 72,\n",
       " 73,\n",
       " 12,\n",
       " 49,\n",
       " 72,\n",
       " 83,\n",
       " 14,\n",
       " 45,\n",
       " 85,\n",
       " 66,\n",
       " 4,\n",
       " 43,\n",
       " 14,\n",
       " 94,\n",
       " 67,\n",
       " 42,\n",
       " 7,\n",
       " 82,\n",
       " 20,\n",
       " 13,\n",
       " 46,\n",
       " 99,\n",
       " 68,\n",
       " 93,\n",
       " 83,\n",
       " 50,\n",
       " 93,\n",
       " 24,\n",
       " 98,\n",
       " 2,\n",
       " 85,\n",
       " 89,\n",
       " 89,\n",
       " 68,\n",
       " 88,\n",
       " 1,\n",
       " 96,\n",
       " 9,\n",
       " 93,\n",
       " 57,\n",
       " 88,\n",
       " 51,\n",
       " 12,\n",
       " 92,\n",
       " 78,\n",
       " 9,\n",
       " 36,\n",
       " 61,\n",
       " 14,\n",
       " 99,\n",
       " 63,\n",
       " 40,\n",
       " 98,\n",
       " 44,\n",
       " 59,\n",
       " 50,\n",
       " 88,\n",
       " 19,\n",
       " 55,\n",
       " 38,\n",
       " 61,\n",
       " 8,\n",
       " 79,\n",
       " 59,\n",
       " 55,\n",
       " 34,\n",
       " 60,\n",
       " 76,\n",
       " 41,\n",
       " 15,\n",
       " 24,\n",
       " 1,\n",
       " 26,\n",
       " 51,\n",
       " 93,\n",
       " 94,\n",
       " 82,\n",
       " 78,\n",
       " 46,\n",
       " 71,\n",
       " 51,\n",
       " 66,\n",
       " 34,\n",
       " 57,\n",
       " 47,\n",
       " 82,\n",
       " 69,\n",
       " 12,\n",
       " 82,\n",
       " 81,\n",
       " 3,\n",
       " 69,\n",
       " 92,\n",
       " 9,\n",
       " 43,\n",
       " 13,\n",
       " 64,\n",
       " 57,\n",
       " 22,\n",
       " 87,\n",
       " 0,\n",
       " 43,\n",
       " 1,\n",
       " 12,\n",
       " 67,\n",
       " 23,\n",
       " 46,\n",
       " 56,\n",
       " 66,\n",
       " 37,\n",
       " 64,\n",
       " 89,\n",
       " 24,\n",
       " 29,\n",
       " 30,\n",
       " 50,\n",
       " 96,\n",
       " 30,\n",
       " 85,\n",
       " 66,\n",
       " 42,\n",
       " 53,\n",
       " 2,\n",
       " 6,\n",
       " 63,\n",
       " 42,\n",
       " 59,\n",
       " 81,\n",
       " 45,\n",
       " 13,\n",
       " 33,\n",
       " 72,\n",
       " 90,\n",
       " 67,\n",
       " 13,\n",
       " 30,\n",
       " 43,\n",
       " 56,\n",
       " 98,\n",
       " 46,\n",
       " 79,\n",
       " 91,\n",
       " 74,\n",
       " 9,\n",
       " 52,\n",
       " 85,\n",
       " 95,\n",
       " 15,\n",
       " 38,\n",
       " 98,\n",
       " 93,\n",
       " 67,\n",
       " 34,\n",
       " 89,\n",
       " 32,\n",
       " 83,\n",
       " 90,\n",
       " 44,\n",
       " 31,\n",
       " 9,\n",
       " 53,\n",
       " 86,\n",
       " 19,\n",
       " 40,\n",
       " 46,\n",
       " 55,\n",
       " 40,\n",
       " 30,\n",
       " 37,\n",
       " 21,\n",
       " 17,\n",
       " 38,\n",
       " 90,\n",
       " 72,\n",
       " 89,\n",
       " 98,\n",
       " 65,\n",
       " 22,\n",
       " 20,\n",
       " 23,\n",
       " 59,\n",
       " 93,\n",
       " 26,\n",
       " 74,\n",
       " 27,\n",
       " 67,\n",
       " 85,\n",
       " 27,\n",
       " 93,\n",
       " 60,\n",
       " 65,\n",
       " 33,\n",
       " 85,\n",
       " 28,\n",
       " 98,\n",
       " 95,\n",
       " 66,\n",
       " 28,\n",
       " 2,\n",
       " 24,\n",
       " 86,\n",
       " 44,\n",
       " 81,\n",
       " 62,\n",
       " 16,\n",
       " 80,\n",
       " 62,\n",
       " 12,\n",
       " 20,\n",
       " 40,\n",
       " 55,\n",
       " 24,\n",
       " 26,\n",
       " 45,\n",
       " 32,\n",
       " 69,\n",
       " 10,\n",
       " 3,\n",
       " 74,\n",
       " 17,\n",
       " 53,\n",
       " 61,\n",
       " 30,\n",
       " 85,\n",
       " 34,\n",
       " 10,\n",
       " 23,\n",
       " 66,\n",
       " 14,\n",
       " 1,\n",
       " 92,\n",
       " 10,\n",
       " 70,\n",
       " 0,\n",
       " 92,\n",
       " 27,\n",
       " 49,\n",
       " 23,\n",
       " 77,\n",
       " 48,\n",
       " 77,\n",
       " 63,\n",
       " 93,\n",
       " 62,\n",
       " 94,\n",
       " 43,\n",
       " 42,\n",
       " 25,\n",
       " 90,\n",
       " 30,\n",
       " 34,\n",
       " 92,\n",
       " 82,\n",
       " 49,\n",
       " 50,\n",
       " 84,\n",
       " 65,\n",
       " 48,\n",
       " 66,\n",
       " 17,\n",
       " 20,\n",
       " 31,\n",
       " 44,\n",
       " 62,\n",
       " 23,\n",
       " 17,\n",
       " 43,\n",
       " 32,\n",
       " 94,\n",
       " 85,\n",
       " 18,\n",
       " 91,\n",
       " 91,\n",
       " 46,\n",
       " 50,\n",
       " 94,\n",
       " 38,\n",
       " 97,\n",
       " 86,\n",
       " 91,\n",
       " 30,\n",
       " 64,\n",
       " 7,\n",
       " 38,\n",
       " 80,\n",
       " 97,\n",
       " 11,\n",
       " 33,\n",
       " 19,\n",
       " 43,\n",
       " 52,\n",
       " 47,\n",
       " 66,\n",
       " 4,\n",
       " 84,\n",
       " 36,\n",
       " 89,\n",
       " 6,\n",
       " 13,\n",
       " 51,\n",
       " 53,\n",
       " 99,\n",
       " 64,\n",
       " 82,\n",
       " 57,\n",
       " 29,\n",
       " 48,\n",
       " 63,\n",
       " 58,\n",
       " 19,\n",
       " 95,\n",
       " 67,\n",
       " 89,\n",
       " 61,\n",
       " 90,\n",
       " 55,\n",
       " 67,\n",
       " 64,\n",
       " 58,\n",
       " 70,\n",
       " 2,\n",
       " 67,\n",
       " 28,\n",
       " 50,\n",
       " 77,\n",
       " 68,\n",
       " 26,\n",
       " 94,\n",
       " 88,\n",
       " 49,\n",
       " 63,\n",
       " 38,\n",
       " 40,\n",
       " 9,\n",
       " 90,\n",
       " 80,\n",
       " 22,\n",
       " 45,\n",
       " 60,\n",
       " 32,\n",
       " 92,\n",
       " 78,\n",
       " 60,\n",
       " 23,\n",
       " 93,\n",
       " 11,\n",
       " 37,\n",
       " 94,\n",
       " 13,\n",
       " 17,\n",
       " 3,\n",
       " 1,\n",
       " 49,\n",
       " 32,\n",
       " 65,\n",
       " 56,\n",
       " 55,\n",
       " 59,\n",
       " 62,\n",
       " 96,\n",
       " 11,\n",
       " 76,\n",
       " 14,\n",
       " 83,\n",
       " 35,\n",
       " 40,\n",
       " 19,\n",
       " 7,\n",
       " 60,\n",
       " 32,\n",
       " 90,\n",
       " 47,\n",
       " 56,\n",
       " 86,\n",
       " 96,\n",
       " 74,\n",
       " 42,\n",
       " 81,\n",
       " 84,\n",
       " 54,\n",
       " 98,\n",
       " 20,\n",
       " 98,\n",
       " 0,\n",
       " 33,\n",
       " 25,\n",
       " 33,\n",
       " 97,\n",
       " 91,\n",
       " 65,\n",
       " 78,\n",
       " 56,\n",
       " 80,\n",
       " 26,\n",
       " 40,\n",
       " 84,\n",
       " 69,\n",
       " 20,\n",
       " 86,\n",
       " 88,\n",
       " 96,\n",
       " 88,\n",
       " 76,\n",
       " 87,\n",
       " 71,\n",
       " 29,\n",
       " 53,\n",
       " 0,\n",
       " 35,\n",
       " 53,\n",
       " 84,\n",
       " 91,\n",
       " 16,\n",
       " 25,\n",
       " 66,\n",
       " 36,\n",
       " 15,\n",
       " 49,\n",
       " 62,\n",
       " 61,\n",
       " 12,\n",
       " 6,\n",
       " 72,\n",
       " 21,\n",
       " 70,\n",
       " 7,\n",
       " 13,\n",
       " 33,\n",
       " 56,\n",
       " 62,\n",
       " 55,\n",
       " 35,\n",
       " 56,\n",
       " 78,\n",
       " 38,\n",
       " 86,\n",
       " 2,\n",
       " 43,\n",
       " 9,\n",
       " 4]"
      ]
     },
     "execution_count": 69,
     "metadata": {},
     "output_type": "execute_result"
    }
   ],
   "source": [
    "vetor_aleatorio"
   ]
  },
  {
   "cell_type": "code",
   "execution_count": 70,
   "id": "58bdd68b",
   "metadata": {},
   "outputs": [],
   "source": [
    "r = np.random.rand(1000000)\n",
    "q = []\n",
    "for ri in r:\n",
    "    q.append(int(ri*100))"
   ]
  },
  {
   "cell_type": "code",
   "execution_count": 71,
   "id": "cefd6944",
   "metadata": {},
   "outputs": [],
   "source": [
    "q = [int(ri*100) for ri in np.random.rand(1000000)]"
   ]
  },
  {
   "cell_type": "code",
   "execution_count": 72,
   "id": "a63330d6",
   "metadata": {},
   "outputs": [
    {
     "data": {
      "text/plain": [
       "1000000"
      ]
     },
     "execution_count": 72,
     "metadata": {},
     "output_type": "execute_result"
    }
   ],
   "source": [
    "len(q)"
   ]
  },
  {
   "cell_type": "code",
   "execution_count": 60,
   "id": "8c0d8077",
   "metadata": {},
   "outputs": [
    {
     "name": "stdout",
     "output_type": "stream",
     "text": [
      "42.4 µs ± 24.4 µs per loop (mean ± std. dev. of 7 runs, 10 loops each)\n"
     ]
    }
   ],
   "source": [
    "%timeit -n 10 np.mean (x)"
   ]
  },
  {
   "cell_type": "code",
   "execution_count": 61,
   "id": "f975d3e6",
   "metadata": {},
   "outputs": [
    {
     "name": "stdout",
     "output_type": "stream",
     "text": [
      "40.1 µs ± 9 µs per loop (mean ± std. dev. of 7 runs, 10 loops each)\n"
     ]
    }
   ],
   "source": [
    "%timeit -n 10 statistics.mean (x)"
   ]
  },
  {
   "cell_type": "code",
   "execution_count": 62,
   "id": "b7fd389b",
   "metadata": {},
   "outputs": [
    {
     "name": "stdout",
     "output_type": "stream",
     "text": [
      "844 ns ± 235 ns per loop (mean ± std. dev. of 7 runs, 10 loops each)\n"
     ]
    }
   ],
   "source": [
    "%timeit -n 10 statistics.fmean (x)"
   ]
  },
  {
   "cell_type": "code",
   "execution_count": 74,
   "id": "2cd1a939",
   "metadata": {},
   "outputs": [
    {
     "name": "stdout",
     "output_type": "stream",
     "text": [
      "87.9 ms ± 9.84 ms per loop (mean ± std. dev. of 7 runs, 10 loops each)\n"
     ]
    }
   ],
   "source": [
    "%timeit -n 10 statistics.multimode (q)"
   ]
  },
  {
   "cell_type": "code",
   "execution_count": null,
   "id": "135b81f0",
   "metadata": {},
   "outputs": [],
   "source": []
  }
 ],
 "metadata": {
  "kernelspec": {
   "display_name": "Python 3 (ipykernel)",
   "language": "python",
   "name": "python3"
  },
  "language_info": {
   "codemirror_mode": {
    "name": "ipython",
    "version": 3
   },
   "file_extension": ".py",
   "mimetype": "text/x-python",
   "name": "python",
   "nbconvert_exporter": "python",
   "pygments_lexer": "ipython3",
   "version": "3.9.2"
  }
 },
 "nbformat": 4,
 "nbformat_minor": 5
}
